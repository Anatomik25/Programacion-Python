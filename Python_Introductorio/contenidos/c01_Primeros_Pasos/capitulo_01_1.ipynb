{
 "cells": [
  {
   "cell_type": "markdown",
   "id": "7d5f24d8",
   "metadata": {},
   "source": [
    "# Contenido 01 - Capítulo 01: Python y la Programación."
   ]
  },
  {
   "cell_type": "markdown",
   "id": "11ad1379",
   "metadata": {},
   "source": [
    "## ¿Qué es Python?\n",
    "Python es un lenguaje de programación de alto nivel, interpretado y de propósito general. Es conocido por su sintaxis clara y legible, lo que facilita el aprendizaje para principiantes y la escritura de código para desarrolladores experimentados.\n",
    "\n",
    "### Características Principales\n",
    "- **Sintaxis sencilla**: Python utiliza una sintaxis que se asemeja al inglés, lo que lo hace fácil de leer y escribir.\n",
    "- **Gran comunidad**: Existe una amplia comunidad de desarrolladores que contribuyen con recursos y materiales, lo que facilita el aprendizaje y la resolución de problemas.\n",
    "- **Versatilidad**: Python se puede utilizar en una variedad de aplicaciones, desde desarrollo web hasta análisis de datos, inteligencia artificial, automatización de tareas y **MUCHO MAS**."
   ]
  },
  {
   "cell_type": "code",
   "execution_count": 1,
   "id": "de8a8d9b",
   "metadata": {},
   "outputs": [
    {
     "name": "stdout",
     "output_type": "stream",
     "text": [
      "Hola querido Estudiante.\n",
      "Hola querido Aprentiz.\n",
      "Hola querido Programador.\n",
      "\n",
      "¡Bienvenidos a la clase de Python!\n"
     ]
    }
   ],
   "source": [
    "Lista = [\"Estudiante\", \"Aprentiz\", \"Programador\"]\n",
    "for persona in Lista:\n",
    "    print(f'Hola querido {persona}.')\n",
    "\n",
    "print(f'\\n¡Bienvenidos a la clase de Python!')"
   ]
  },
  {
   "cell_type": "markdown",
   "id": "8a945577",
   "metadata": {},
   "source": [
    "## Como funciona programar\n",
    "\n",
    "<img src=\"content\\code_python.jpg\" alt=\"código\" width=\"800\">\n",
    "\n",
    "### ¿Que es programar?\n",
    "Programar es el proceso de diseñar, escribir, probar y mantener el código de aplicaciones y procesos informáticos. Este código funciona gracias a un conjunto de instrucciones que le indican a la computadora cómo realizar tareas específicas. Programar implica resolver problemas primero desde una perspectiva logica, crear algoritmos para que sigua la logica pensada, y luego ejecutar ese algoritmo en un lenguaje de programación, como Python, para que la computadora pueda entender y realizar las instrucciones.\n",
    "\n",
    "### ¿Que es un algoritmo?\n",
    "<img src=\"content\\algoritmos.jpg\" alt=\"algoritmo\" width=\"800\">\n",
    "\n",
    "Un algoritmo es una secuencia de pasos o instrucciones bien definidas que se utilizan para resolver un problema o realizar una tarea específica. Los algoritmos son fundamentales en la programación, ya que proporcionan un enfoque sistemático para abordar problemas y desarrollar soluciones eficientes. Sin embargo, en el mundo de la programación, un algoritmo no es solo una lista de pasos, sino que es una instrucción que debe ser:\n",
    "\n",
    "- Precisa: Cada paso debe usar las variables y operaciones correctas.\n",
    "- Finita: Cada algoritmo debe tener un número finito de pasos, lo que significa que eventualmente llegará a una solución o resultado en cada escenario posible.\n",
    "- Efectiva: Cada paso debe ser claro y ejecutable, pudiendo llevar a cabo cada instrucción con los recursos disponibles.\n",
    "\n",
    "Esto significa que debe tener al menos un punto de inicio, y para cada punto de inicio debe tener al menos un punto final. \n",
    "Las instrucciones que recibe la computadora son tomadas y ejecutadas de manera literal. Por lo que hay que tener cuidado que todo lo que se le indica no sea procesado en bucle infinito, o que no se le indique algo que no pueda procesar. La computadora no puede interpretar la intención detrás de las instrucciones, solo puede seguir lo que se le dice."
   ]
  }
 ],
 "metadata": {
  "kernelspec": {
   "display_name": "base",
   "language": "python",
   "name": "python3"
  },
  "language_info": {
   "codemirror_mode": {
    "name": "ipython",
    "version": 3
   },
   "file_extension": ".py",
   "mimetype": "text/x-python",
   "name": "python",
   "nbconvert_exporter": "python",
   "pygments_lexer": "ipython3",
   "version": "3.13.5"
  }
 },
 "nbformat": 4,
 "nbformat_minor": 5
}
