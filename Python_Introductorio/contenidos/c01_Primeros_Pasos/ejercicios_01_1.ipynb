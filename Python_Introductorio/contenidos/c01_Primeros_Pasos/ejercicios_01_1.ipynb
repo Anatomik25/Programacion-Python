{
 "cells": [
  {
   "cell_type": "markdown",
   "id": "50fc5a3f",
   "metadata": {},
   "source": [
    "Enunciado"
   ]
  }
 ],
 "metadata": {
  "language_info": {
   "name": "python"
  }
 },
 "nbformat": 4,
 "nbformat_minor": 5
}
