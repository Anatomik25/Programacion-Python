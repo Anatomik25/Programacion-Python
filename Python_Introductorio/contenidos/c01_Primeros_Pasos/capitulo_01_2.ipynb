{
 "cells": [
  {
   "cell_type": "markdown",
   "id": "1d5e4376",
   "metadata": {},
   "source": [
    "# Contenido 01 - Capitulo 02: Primeros pasos en programación."
   ]
  },
  {
   "cell_type": "markdown",
   "id": "c35363ed",
   "metadata": {},
   "source": [
    "## Comenzar a programar\n",
    "\n",
    "La mayoría de los programadores trabajan con un **editor de texto**. Un editor de texto es un programa que permite escribir y editar código fuente. Aca trabajaremos con **Google Colab** abriendo archivos de tipo **Jupyter Notebooks**. \n",
    "Un Jupyter Notebook es un tipo de documento como *Pdf*, *Word*, *xlsx*, etc... Sin embargo, este tipo de archivo puede contener tanto código ejecutable como texto formateado, imágenes y otros elementos. Es una herramienta muy útil para la programación y la documentación.\n",
    "\n",
    "### Google Colab"
   ]
  }
 ],
 "metadata": {
  "language_info": {
   "name": "python"
  }
 },
 "nbformat": 4,
 "nbformat_minor": 5
}
