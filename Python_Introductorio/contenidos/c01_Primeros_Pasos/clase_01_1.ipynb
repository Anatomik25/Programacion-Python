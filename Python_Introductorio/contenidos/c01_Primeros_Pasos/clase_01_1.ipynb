{
 "cells": [
  {
   "cell_type": "markdown",
   "id": "11ad1379",
   "metadata": {},
   "source": [
    "# ¿Qué es Python?\n",
    "Python es un lenguaje de programación de alto nivel, interpretado y de propósito general. Es conocido por su sintaxis clara y legible, lo que facilita el aprendizaje para principiantes y la escritura de código para desarrolladores experimentados.\n",
    "\n",
    "## Características Principales\n",
    "- **Sintaxis sencilla**: Python utiliza una sintaxis que se asemeja al inglés, lo que lo hace fácil de leer y escribir.\n",
    "- **Gran comunidad**: Existe una amplia comunidad de desarrolladores que contribuyen con bibliotecas y recursos, lo que facilita la resolución de problemas y el aprendizaje.\n",
    "- **Versatilidad**: Python se puede utilizar en una variedad de aplicaciones, desde desarrollo web hasta análisis de datos, inteligencia artificial, automatización de tareas y **MUCHO MAS**.\n",
    "\n",
    "```python\n",
    "Lista = [\"Estudiante\", \"Aprentiz\", \"Programador\"]\n",
    "for persona in Lista:\n",
    "    print(f'Hola querido {persona}.')\n",
    "\n",
    "print(f'\\n¡Bienvenido a la clase de Python!')\n",
    "```"
   ]
  }
 ],
 "metadata": {
  "language_info": {
   "name": "python"
  }
 },
 "nbformat": 4,
 "nbformat_minor": 5
}
