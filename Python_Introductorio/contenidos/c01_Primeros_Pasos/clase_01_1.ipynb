{
 "cells": [
  {
   "cell_type": "markdown",
   "id": "7d5f24d8",
   "metadata": {},
   "source": [
    "# Contenido 01 - Clase 01: Mundo de la Programación en Python"
   ]
  },
  {
   "cell_type": "markdown",
   "id": "11ad1379",
   "metadata": {},
   "source": [
    "## ¿Qué es Python?\n",
    "Python es un lenguaje de programación de alto nivel, interpretado y de propósito general. Es conocido por su sintaxis clara y legible, lo que facilita el aprendizaje para principiantes y la escritura de código para desarrolladores experimentados.\n",
    "\n",
    "### Características Principales\n",
    "- **Sintaxis sencilla**: Python utiliza una sintaxis que se asemeja al inglés, lo que lo hace fácil de leer y escribir.\n",
    "- **Gran comunidad**: Existe una amplia comunidad de desarrolladores que contribuyen con recursos, lo que facilita el aprendizaje y la resolución de problemas.\n",
    "- **Versatilidad**: Python se puede utilizar en una variedad de aplicaciones, desde desarrollo web hasta análisis de datos, inteligencia artificial, automatización de tareas y **MUCHO MAS**.\n",
    "\n",
    "```python\n",
    "Lista = [\"Estudiante\", \"Aprentiz\", \"Programador\"]\n",
    "for persona in Lista:\n",
    "    print(f'Hola querido {persona}.')\n",
    "\n",
    "print(f'\\n¡Bienvenido a la clase de Python!')\n",
    "```"
   ]
  },
  {
   "cell_type": "markdown",
   "id": "8a945577",
   "metadata": {},
   "source": [
    "# Como funciona programar\n",
    "\n",
    "<img src=\"content/code-python.jpg\" alt=\"código\" width=\"800\">\n",
    "\n",
    "## ¿Que es programar?\n",
    "Programar es el proceso de diseñar, escribir, probar y mantener el código de aplicaciones y procesos informáticos. Este código funciona gracias a un conjunto de instrucciones que le indican a la computadora cómo realizar tareas específicas. Programar implica resolver problemas primero desde una perspectiva logica, crear algoritmos para que sigua la logica pensada, y luego ejecutar ese algoritmo en un lenguaje de programación, como Python, para que la computadora pueda entender y ejecutar las instrucciones.\n",
    "\n",
    "## ¿Que es un algoritmo?\n",
    "<img src=\"content/algorithm.jpg\" alt=\"algoritmo\" width=\"400\">\n",
    "\n",
    "Un algoritmo es una secuencia de pasos o instrucciones bien definidas que se utilizan para resolver un problema o realizar una tarea específica. Los algoritmos son fundamentales en la programación, ya que proporcionan un enfoque sistemático para abordar problemas y desarrollar soluciones eficientes. Sin embargo, en el mundo de la programación, un algoritmo no es solo una lista de pasos, sino que es una instrucción que debe ser precisa, finita y efectiva. Esto significa que debe tener un punto de inicio y un punto final, y cada paso debe ser claro y ejecutable. Ya que las instrucciones que recibe la computadora son tomadas y ejecutadas de manera literal."
   ]
  }
 ],
 "metadata": {
  "language_info": {
   "name": "python"
  }
 },
 "nbformat": 4,
 "nbformat_minor": 5
}
